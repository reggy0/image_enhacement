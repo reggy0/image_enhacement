{
  "cells": [
    {
      "cell_type": "markdown",
      "metadata": {
        "id": "kl8PdV9J-iEN"
      },
      "source": [
        "# Enhancement\n",
        "\n",
        "We'll see how to improve the image quality using simple filtering.\n"
      ]
    },
    {
      "cell_type": "code",
      "execution_count": null,
      "metadata": {
        "id": "zbrNmv0c-iEx"
      },
      "outputs": [],
      "source": [
        "import tifffile\n",
        "import numpy as np\n",
        "\n",
        "filename = '../data/example.tif'\n",
        "img = tifffile.imread(filename)\n",
        "print(\"The shape of the array is [depth x channels x height x width]\", img.shape)\n"
      ]
    },
    {
      "cell_type": "markdown",
      "metadata": {
        "id": "funSCTbT-iFA"
      },
      "source": [
        "Let's apply a 3D gaussian filter to the image, channel by channel:"
      ]
    },
    {
      "cell_type": "code",
      "execution_count": null,
      "metadata": {
        "id": "DUe59FuF-iFE"
      },
      "outputs": [],
      "source": [
        "from skimage import filters\n",
        "import napari\n",
        "\n",
        "# Let's smooth each channels\n",
        "smoothed = np.ones(img.shape)\n",
        "for channel in range(img.shape[1]):\n",
        "    smoothed[:,channel,:,:] = filters.gaussian(np.squeeze(img[:,channel,:,:]), 10)\n",
        "\n",
        "# Let's visualize a single 2D plane\n",
        "plt.imshow(smoothed[10,0,:,:])\n",
        "\n",
        "# create a Viewer and add an image here with the two channels and scaling\n",
        "napari.view_image(smoothed, channel_axis=1, name=['dapi', 'fitc'], scale=[10,1,1])\n"
      ]
    },
    {
      "cell_type": "markdown",
      "metadata": {
        "id": "npRtpDCf-iFK"
      },
      "source": [
        "## Background substraction using the rolling ball algorithm\n",
        "The rolling ball algorithm was introduced in Sternberg S. Biomedical Image Processing, IEEE Computer 1983;16(1):22-34. (DOI:10.1109/MC.1983.1654163)\n",
        "This is not ideal for quantitative measurement of intensities but can help segment the image. This example is inspired from https://scikit-image.org/docs/stable/auto_examples/segmentation/plot_rolling_ball.html\n",
        "\n",
        "First, let's define first a function to help display the image, background and corrected image. The histogram on the right of the figure helps understand how background correction affect the distribution of intensities."
      ]
    },
    {
      "cell_type": "code",
      "execution_count": null,
      "metadata": {
        "id": "MKUs-v0x-iFQ"
      },
      "outputs": [],
      "source": [
        "import matplotlib.pyplot as plt\n",
        "from skimage.exposure import histogram\n",
        "import numpy as np\n",
        "\n",
        "def plt_bg_corr(im,bg,corrected):\n",
        "    ''' Display background correction results '''\n",
        "    fig, ax = plt.subplots(1, 4)\n",
        "    ax[0].imshow(im,cmap='gray')\n",
        "    ax[0].set_title('Image')\n",
        "    ax[0].set_axis_off()\n",
        "    ax[1].imshow(bg,cmap='gray')\n",
        "    ax[1].set_title('Background')\n",
        "    ax[1].set_axis_off()\n",
        "    ax[2].imshow(corrected,cmap='gray')\n",
        "    ax[2].set_title('Corrected')\n",
        "    ax[2].set_axis_off()\n",
        "    hist1, hist_centers1  = histogram(im)\n",
        "    ax[3].loglog(hist_centers1, hist1, lw=2, label='before')\n",
        "    hist2, hist_centers2  = histogram(corrected)\n",
        "    ax[3].loglog(hist_centers2, hist2, lw=2,label='after')\n",
        "    ax[3].set_title('Histogram')\n",
        "    ax[3].set_position([0.8, 0.4, 0.2, 0.25])\n",
        "    ax[3].legend()\n",
        "    ax[3].set_xlabel('intensity (log)')\n"
      ]
    },
    {
      "cell_type": "markdown",
      "metadata": {
        "id": "nSySo5pS-iFY"
      },
      "source": [
        "Let's load a test image too"
      ]
    },
    {
      "cell_type": "code",
      "execution_count": null,
      "metadata": {
        "id": "Jn9xl-7O-iFc"
      },
      "outputs": [],
      "source": [
        "from skimage import io\n",
        "import numpy as np\n",
        "im = io.imread('../data/nuclei.tif')\n",
        "im = im[0:500,0:500]\n",
        "N,M = im.shape\n",
        "Y,X = np.ix_(np.arange(N),np.arange(M))\n",
        "# We add a bias defined as X/5 and convert the elements of the array to 16 bit unsiged integers.\n",
        "im = np.asarray(im + X/5, dtype=np.uint16)\n",
        "plt.imshow(im)\n",
        "plt.axis('off')\n",
        "plt.show()"
      ]
    },
    {
      "cell_type": "code",
      "execution_count": null,
      "metadata": {
        "id": "UwXfoFMt-iFj"
      },
      "outputs": [],
      "source": [
        "Now we an apply a rolling ball filter to estimate the background:"
      ]
    },
    {
      "cell_type": "code",
      "execution_count": null,
      "metadata": {
        "id": "zXUdgVnp-iFn"
      },
      "outputs": [],
      "source": [
        "from skimage import restoration\n",
        "from timeit import default_timer as timer\n",
        "\n",
        "tic = timer()\n",
        "\n",
        "# Apply a rolling ball to estimate a background image\n",
        "bg = restoration.rolling_ball(im, radius=60)\n",
        "\n",
        "# Substract the background to the image \n",
        "corrected = im - bg\n",
        "\n",
        "# Display the image, the estimated background and the corrected image\n",
        "plt_bg_corr(im,bg,corrected)\n",
        "\n",
        "# Display elapsed time for this step\n",
        "etime = timer() - tic\n",
        "print(f\"Elapsed time: {etime:.2f} s\")\n"
      ]
    },
    {
      "cell_type": "markdown",
      "metadata": {
        "id": "JUaixS7M-iFt"
      },
      "source": [
        "We might be unhappy with the results as the intensity and spatial dimension of the rolling ball are here linked. To decouple them, we can specify a kernel:"
      ]
    },
    {
      "cell_type": "code",
      "execution_count": null,
      "metadata": {
        "id": "zQdTtyHq-iFx"
      },
      "outputs": [],
      "source": [
        "from skimage import restoration\n",
        "from timeit import default_timer as timer\n",
        "\n",
        "tic = timer()\n",
        "\n",
        "# define a kernel for the rolling ball with its shape and intensity\n",
        "kernel = restoration.ellipsoid_kernel((120,120),  10)\n",
        "\n",
        "# Apply a rolling ball to estimate a background image\n",
        "bg = restoration.rolling_ball(im, kernel=kernel)\n",
        "\n",
        "# Substract the background to the image \n",
        "corrected = im - bg\n",
        "\n",
        "# Display the image, the estimated background and the corrected image\n",
        "plt_bg_corr(im,bg,corrected)\n",
        "\n",
        "# Display elapsed time for this step\n",
        "etime = timer() - tic\n",
        "print(f\"Elapsed time: {etime:.2f} s\")"
      ]
    },
    {
      "cell_type": "markdown",
      "metadata": {
        "id": "GVsj408X-iF1"
      },
      "source": [
        "## Background substraction using a top-hat\n",
        "The top-hat transform is defined as the difference between the image and it's morphological opening. The morphological opening of an image can be defined as a minimum filter or morphological erosion followed by a maximum filter or morphological dilation."
      ]
    },
    {
      "cell_type": "code",
      "execution_count": null,
      "metadata": {
        "id": "eZFt6EG2-iF4"
      },
      "outputs": [],
      "source": [
        "from skimage import morphology\n",
        "from skimage.filters.rank import maximum, minimum\n",
        "from skimage.filters import gaussian\n",
        "from timeit import default_timer as timer\n",
        "\n",
        "# We define a structuring element (flat kernel) with radius 30\n",
        "selem =  morphology.disk(30)\n",
        "\n",
        "tic = timer()\n",
        "# We can either directly compute the corrected image\n",
        "corrected = morphology.white_tophat(im, selem)\n",
        "\n",
        "# and deduce the background.\n",
        "bg = im - corrected\n",
        "\n",
        "# Display the image, the estimated background and the corrected image\n",
        "plt_bg_corr(im,bg,corrected)\n",
        "\n",
        "# Display elapsed time for this step\n",
        "etime = timer() - tic\n",
        "print(f\"Elapsed time: {etime:.2f} s\")\n",
        "\n",
        "# Let's test the same by coding directly the Top-Hat function\n",
        "tic = timer()\n",
        "\n",
        "# Define the erosion\n",
        "bg2 = maximum(minimum(im, selem), selem)\n",
        "\n",
        "# Eventually, we can post process the background \n",
        "bg2 = gaussian(np.asarray(bg2,dtype=float), 20)\n",
        "\n",
        "# Compute the residuals to obtain the top-hat\n",
        "corrected2 = np.asarray(im,dtype=float)  - bg2\n",
        "\n",
        "# Display again the results and timing\n",
        "plt_bg_corr(im,bg2,corrected2)\n",
        "etime = timer() - tic\n",
        "print(f\"Elapsed time: {etime:.2f} s\")\n"
      ]
    }
  ],
  "metadata": {
    "kernelspec": {
      "display_name": "cimaging",
      "language": "python",
      "name": "imaging"
    },
    "language_info": {
      "codemirror_mode": {
        "name": "ipython",
        "version": 3
      },
      "file_extension": ".py",
      "mimetype": "text/x-python",
      "name": "python",
      "nbconvert_exporter": "python",
      "pygments_lexer": "ipython3",
      "version": "3.9.5"
    },
    "name": "example3-enhancement.ipynb",
    "colab": {
      "name": "example3-enhancement.ipynb",
      "provenance": []
    }
  },
  "nbformat": 4,
  "nbformat_minor": 0
}