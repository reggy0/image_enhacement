{
  "nbformat": 4,
  "nbformat_minor": 0,
  "metadata": {
    "colab": {
      "name": "Image_Enhancement.ipynb",
      "provenance": [],
      "include_colab_link": true
    },
    "kernelspec": {
      "name": "python3",
      "display_name": "Python 3"
    }
  },
  "cells": [
    {
      "cell_type": "markdown",
      "metadata": {
        "id": "view-in-github",
        "colab_type": "text"
      },
      "source": [
        "<a href=\"https://colab.research.google.com/github/reggy0/image_enhacement/blob/main/Image_Enhancement.ipynb\" target=\"_parent\"><img src=\"https://colab.research.google.com/assets/colab-badge.svg\" alt=\"Open In Colab\"/></a>"
      ]
    },
    {
      "cell_type": "markdown",
      "metadata": {
        "id": "J4ThlgFrDmJT"
      },
      "source": [
        "**Histogram Equalization**"
      ]
    },
    {
      "cell_type": "code",
      "metadata": {
        "id": "XjKuy29KAJ3N"
      },
      "source": [
        "!wget -O image.jpg https://upload.wikimedia.org/wikipedia/commons/0/08/Unequalized_Hawkes_Bay_NZ.jpg\n",
        "\n",
        "import cv2\n",
        "import numpy as np\n",
        "from matplotlib import pyplot as plt\n",
        "\n",
        "img = cv2.imread('image.jpg',0)\n",
        "\n",
        "# Calcuate histograms and CDF\n",
        "hist,bins = np.histogram(img.flatten(),256,[0,255])\n",
        "cdf = hist.cumsum()\n",
        "cdf_normalized = cdf * hist.max() / cdf.max() # Normalize to have the same max for visualization\n",
        "\n",
        "# Visualzie\n",
        "plt.imshow(img, cmap='gray')\n",
        "plt.figure()\n",
        "plt.plot(cdf_normalized, color = 'b')\n",
        "plt.hist(img.flatten(),256,[0,255], color = 'r')\n",
        "plt.xlim([0,255])\n",
        "plt.legend(('cdf','histogram'), loc = 'upper left')\n",
        "plt.show()"
      ],
      "execution_count": null,
      "outputs": []
    },
    {
      "cell_type": "code",
      "metadata": {
        "id": "sC8N3zgGBYob"
      },
      "source": [
        "# Histgram Equalization Theoretically\n",
        "cdf_m = np.ma.masked_equal(cdf,0)\n",
        "cdf_m = (cdf_m - cdf_m.min())*255/(cdf_m.max()-cdf_m.min())\n",
        "cdf = np.ma.filled(cdf_m,0).astype('uint8')\n",
        "img2 = cdf[img]\n",
        "\n",
        "# Histgram Equalization with OpenCV\n",
        "img3 = cv2.equalizeHist(img)\n",
        "\n",
        "# Calcuate histograms and CDF\n",
        "hist2,bins2 = np.histogram(img2.flatten(),256,[0,256])\n",
        "cdf2 = hist2.cumsum()\n",
        "cdf_normalized2 = cdf2 * hist2.max() / cdf2.max() # Normalize to have the same max for visualization\n",
        "\n",
        "# Visualize results\n",
        "plt.imshow(img, cmap='gray')\n",
        "plt.figure()\n",
        "plt.imshow(img2, cmap='gray')\n",
        "plt.figure()\n",
        "plt.imshow(img3, cmap='gray')\n",
        "plt.figure()\n",
        "plt.plot(cdf_normalized2, color = 'b')\n",
        "plt.hist(img2.flatten(),256,[0,255], color = 'r')\n",
        "plt.xlim([0,256])\n",
        "plt.legend(('cdf','histogram'), loc = 'upper left')\n",
        "plt.show()"
      ],
      "execution_count": null,
      "outputs": []
    },
    {
      "cell_type": "code",
      "metadata": {
        "id": "_NDoX7-kEk48"
      },
      "source": [
        "# Adaptive Histogram Equalization\n",
        "clahe = cv2.createCLAHE(clipLimit=2.0, tileGridSize=(8,8))\n",
        "cl1 = clahe.apply(img)\n",
        "\n",
        "# Visualize results\n",
        "plt.imshow(img, cmap='gray')\n",
        "plt.figure()\n",
        "plt.imshow(img2, cmap='gray')\n",
        "plt.figure()\n",
        "plt.imshow(cl1, cmap='gray')"
      ],
      "execution_count": null,
      "outputs": []
    },
    {
      "cell_type": "markdown",
      "metadata": {
        "id": "XvSTVgwf0Ntd"
      },
      "source": [
        "**Masking Colors**"
      ]
    },
    {
      "cell_type": "code",
      "metadata": {
        "id": "rTb6ykqP0Ne-"
      },
      "source": [
        "!wget -O flower.jpg https://raw.githubusercontent.com/heshameraqi/Image_Processing_Computer_Vision_1/main/flower.jpg\n",
        "\n",
        "img = cv2.imread(\"flower.jpg\")\n",
        "hsv = cv2.cvtColor(img, cv2.COLOR_BGR2HSV) # Convert to HSV, In OpenCV: H: 0-179, S: 0-255, V: 0-255\n",
        "mask = cv2.inRange(hsv, (36, 0, 0), (70, 255,255)) # Range between two colors\n",
        "img2 = cv2.bitwise_and(img, img, mask = mask)\n",
        "\n",
        "plt.imshow( cv2.cvtColor(img, cv2.COLOR_BGR2RGB) )\n",
        "plt.figure()\n",
        "plt.imshow(mask, cmap='gray')\n",
        "plt.figure()\n",
        "plt.imshow(img2, cmap='gray')"
      ],
      "execution_count": null,
      "outputs": []
    },
    {
      "cell_type": "markdown",
      "metadata": {
        "id": "Cz_R_ueHFtnd"
      },
      "source": [
        "**Exercise: Change the last cell to detect the yellow color. Download an image and experiment on it using any of the following: Negative Transformation, Brightness Thresholding, Grey Level Slicing, and Contrast Stretching.**"
      ]
    }
  ]
}